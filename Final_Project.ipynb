{
  "nbformat": 4,
  "nbformat_minor": 0,
  "metadata": {
    "colab": {
      "name": "Final_Project.ipynb",
      "provenance": [],
      "collapsed_sections": []
    },
    "kernelspec": {
      "name": "python3",
      "display_name": "Python 3"
    },
    "language_info": {
      "name": "python"
    }
  },
  "cells": [
    {
      "cell_type": "markdown",
      "metadata": {
        "id": "Xy6Z1fjc5PtG"
      },
      "source": [
        "### **Reading the data set**"
      ]
    },
    {
      "cell_type": "markdown",
      "metadata": {
        "id": "LzB4TMTG6GHM"
      },
      "source": [
        "---\n",
        "***Data Set Description***\n",
        "\n",
        "Pclass:  Passenger Class : \n",
        "                          \n",
        "                          1-> 1st class\n",
        "                          2-> 2nd class\n",
        "                          3-> 3rd class\n",
        "\n",
        "Survived:  Survival       : \n",
        "                           \n",
        "                           1-> Yes\n",
        "                           0-> No\n",
        "\n",
        "Name:    Name of the passenger\n",
        "\n",
        "Sex:     Gender of the passenger\n",
        "\n",
        "Age:     Age of the passenger\n",
        "\n",
        "SibSp:   Number of siblings/spouses aboard\n",
        "\n",
        "Parch:   Number of parents/children aboard\n",
        "\n",
        "Ticket:  The ticket number of the passenger\n",
        "\n",
        "Fare:    Passenger fare (In British Pounds)\n",
        "\n",
        "Cabin:   Allocated cabin number for the passenger\n",
        "\n",
        "Embarked: Port of embarkation :\n",
        "                              \n",
        "                               C -> Cherbourg\n",
        "                               Q -> Queenstown\n",
        "                               S -> Southampton\n",
        "\n"
      ]
    },
    {
      "cell_type": "code",
      "metadata": {
        "id": "Ui5qN7AS5647"
      },
      "source": [
        "import pandas as pd\n",
        "import numpy as np"
      ],
      "execution_count": null,
      "outputs": []
    },
    {
      "cell_type": "code",
      "metadata": {
        "id": "BFeGpS3Xw8g-"
      },
      "source": [
        "#Load the data set into a data frame\n",
        "\n",
        "%load_ext google.colab.data_table\n",
        "Titanic=pd.read_csv('/content/train.csv')\n",
        "Titanic.head()"
      ],
      "execution_count": null,
      "outputs": []
    },
    {
      "cell_type": "code",
      "metadata": {
        "id": "qPQkMIan3ZCk"
      },
      "source": [
        "%unload_ext google.colab.data_table\n",
        "\n",
        "df=pd.DataFrame(Titanic)\n",
        "df.head()"
      ],
      "execution_count": null,
      "outputs": []
    },
    {
      "cell_type": "code",
      "metadata": {
        "id": "tjO7u0HV6BKe"
      },
      "source": [
        "#Checking the size of the data frame\n",
        "\n",
        "df.shape\n",
        "#df.index"
      ],
      "execution_count": null,
      "outputs": []
    },
    {
      "cell_type": "markdown",
      "metadata": {
        "id": "kbT1SFYB8l5F"
      },
      "source": [
        "\n",
        "\n",
        "\n",
        "---\n",
        "\n",
        "\n",
        "***Handling Null values***"
      ]
    },
    {
      "cell_type": "code",
      "metadata": {
        "id": "NHSIGhR48yHX"
      },
      "source": [
        "#Returns total number of missing values in each column of the data frame\n",
        "\n",
        "df.isnull().sum()"
      ],
      "execution_count": null,
      "outputs": []
    },
    {
      "cell_type": "code",
      "metadata": {
        "id": "kt-Fd2J78yI4"
      },
      "source": [
        "#Drop the column if the total number of missing values is greater than 35% of the total number of rows in the data frame\n",
        "\n",
        "drop_col=df.isnull().sum()[df.isnull().sum()>(0.35*df.shape[0])]\n",
        "print(drop_col)\n",
        "\n",
        "#drop_col.index\n",
        "\n",
        "df.drop(drop_col.index,axis=1,inplace=True)"
      ],
      "execution_count": null,
      "outputs": []
    },
    {
      "cell_type": "code",
      "metadata": {
        "id": "7c2XUXNDCKIB"
      },
      "source": [
        "#Returns the columns with total missing values being less than 35% of the total number of rows in the data frame\n",
        "\n",
        "#df.isnull().any()\n",
        "df.isnull().sum()"
      ],
      "execution_count": null,
      "outputs": []
    },
    {
      "cell_type": "code",
      "metadata": {
        "id": "2iLFT16YBRre"
      },
      "source": [
        "df.fillna(df.mean(),inplace=True)\n",
        "\n",
        "#Returns the columns with missing values to which the statistical operation cannot be applied(For string data type)\n",
        "\n",
        "df.isnull().sum()"
      ],
      "execution_count": null,
      "outputs": []
    },
    {
      "cell_type": "code",
      "metadata": {
        "id": "hLAl1yJEIXVS"
      },
      "source": [
        "#Checking the value distribution in the column Embarked\n",
        "\n",
        "df['Embarked'].describe()"
      ],
      "execution_count": null,
      "outputs": []
    },
    {
      "cell_type": "code",
      "metadata": {
        "id": "uU1NNmpAIXWp"
      },
      "source": [
        "#Fill the Embarked column with the mode of the occurrances\n",
        "\n",
        "df['Embarked'].fillna('S',inplace = True)\n",
        "\n",
        "#To check whether there are any more columns with missing values\n",
        "\n",
        "df.isnull().any()"
      ],
      "execution_count": null,
      "outputs": []
    },
    {
      "cell_type": "markdown",
      "metadata": {
        "id": "OZltmOLKRxeT"
      },
      "source": [
        "\n",
        "\n",
        "---\n",
        "\n"
      ]
    },
    {
      "cell_type": "markdown",
      "metadata": {
        "id": "2HtB7zmCOjDN"
      },
      "source": [
        "### **Data Analysis**"
      ]
    },
    {
      "cell_type": "code",
      "metadata": {
        "id": "ZD-TLhl8PnMv"
      },
      "source": [
        "#Correlation among the column varaibles\n",
        "\n",
        "df.corr()"
      ],
      "execution_count": null,
      "outputs": []
    },
    {
      "cell_type": "markdown",
      "metadata": {
        "id": "vcsQM2PP89CK"
      },
      "source": [
        "\n",
        "\n",
        "\n",
        "> *It can be observed that the passenger class has a considerable correlation with being a survivor; which suggests that higher the passenger class lower the chance of being a survivor(i.e. Inversly proportioned).*\n",
        "\n",
        "\n",
        "\n",
        "> *i.e. The lower passenger class values (wealthy passengers) might have had been favoured in attempts of saving/survival*\n",
        "\n",
        "\n",
        "\n",
        "> *A considerable negative correlation can be observed between passenger class and the fare ,which is an obvious case of inversely proportaional relationship.*\n",
        "\n",
        "\n",
        "\n",
        "> *Though a similar magnitude of negative correlation is shown between age and passenger class;it leads to no useful insights.*\n",
        "\n",
        "\n",
        "\n",
        ">*The same can be stated regarding the comparatively significant positive correlation between the variables SibSp and Parch.*\n",
        "\n"
      ]
    },
    {
      "cell_type": "markdown",
      "metadata": {
        "id": "VZ6y42tZQm5C"
      },
      "source": [
        "\n",
        "\n",
        "---\n",
        "\n",
        "\n",
        " ***Survival rate of a passenger boarded alone***\n",
        " \n",
        "\n",
        " \n",
        " Modification: \n",
        " > *Combining the two related variables,no. of siblings and the no. of parents aboard to form a new variable containg the no. of family members aboard*."
      ]
    },
    {
      "cell_type": "code",
      "metadata": {
        "id": "ZDuDhtphQD9d"
      },
      "source": [
        "#Creating the new variable combining two existing related variables\n",
        "\n",
        "df['FamSize']=df['SibSp']+df['Parch']\n",
        "\n",
        "#Removing the two varibales from the data frame\n",
        "\n",
        "df.drop(['SibSp','Parch'], axis=1,inplace=True)\n",
        "\n",
        "#Checking the correlation between the variables in the modified data frame\n",
        "\n",
        "df.corr()"
      ],
      "execution_count": null,
      "outputs": []
    },
    {
      "cell_type": "markdown",
      "metadata": {
        "id": "YsjhVLvJVNtm"
      },
      "source": [
        "Modification:\n",
        ">*Create a new variable with the column name **Alone** using the column FamSize.*\n"
      ]
    },
    {
      "cell_type": "code",
      "metadata": {
        "id": "2abO_PnXVBm9"
      },
      "source": [
        "# Checking whether a person being alone affected the survival rate\n",
        "\n",
        "df['Alone']=[0 if df['FamSize'][i]>0 else 1 for i in df.index]\n",
        "df.head()"
      ],
      "execution_count": null,
      "outputs": []
    },
    {
      "cell_type": "code",
      "metadata": {
        "id": "gg0vYXZYW2du"
      },
      "source": [
        "# Calculate the number of passengers that boarded alone and survived\n",
        "\n",
        "df.groupby(['Alone'])['Survived'].mean()\n"
      ],
      "execution_count": null,
      "outputs": []
    },
    {
      "cell_type": "code",
      "metadata": {
        "id": "Iu-TlHWUXaEv"
      },
      "source": [
        "#Checking the correlation between a passenger being borded alone and the charged fare\n",
        "\n",
        "df[['Alone','Fare']].corr()"
      ],
      "execution_count": null,
      "outputs": []
    },
    {
      "cell_type": "markdown",
      "metadata": {
        "id": "KPvk7RkWYZj3"
      },
      "source": [
        "\n",
        "\n",
        "\n",
        "---\n",
        "\n",
        "***Survival rate of a female passenger***\n",
        "\n",
        "\n",
        "\n",
        "Modification:\n",
        ">*Create a new variable with the column name **Gender** using the column Sex.*"
      ]
    },
    {
      "cell_type": "code",
      "metadata": {
        "id": "Md2_bVm5ZNRG"
      },
      "source": [
        "#Checking whether the gender being female affected the survival rate\n",
        "\n",
        "df['Gender'] = [0 if df['Sex'][i]=='male' else 1 for i in df.index]\n",
        "\n",
        "#Calculate the number of females survived\n",
        "\n",
        "df.groupby(['Gender'])['Survived'].mean()"
      ],
      "execution_count": null,
      "outputs": []
    },
    {
      "cell_type": "markdown",
      "metadata": {
        "id": "-PBmTympmFGR"
      },
      "source": [
        "\n",
        "\n",
        "---\n",
        "***Survival rate comparison among passenger classes***\n",
        "\n",
        "\n"
      ]
    },
    {
      "cell_type": "code",
      "metadata": {
        "id": "30xBOTy4lqDM"
      },
      "source": [
        "#Checking whether the class had affected the surviva rate\n",
        "\n",
        "df.groupby(['Pclass'])['Survived'].mean()"
      ],
      "execution_count": null,
      "outputs": []
    },
    {
      "cell_type": "markdown",
      "metadata": {
        "id": "hmPCwxhccRtI"
      },
      "source": [
        "\n",
        "\n",
        "---\n",
        "***Survival rate and port of embarkation***\n",
        "\n",
        "\n",
        "\n"
      ]
    },
    {
      "cell_type": "code",
      "metadata": {
        "id": "u46g3Okqajnk"
      },
      "source": [
        "# Checking whether the port of embarkation affected the survival rate\n",
        "\n",
        "df.groupby(['Embarked'])['Survived'].mean()\n"
      ],
      "execution_count": null,
      "outputs": []
    },
    {
      "cell_type": "markdown",
      "metadata": {
        "id": "ukuluqlndFte"
      },
      "source": [
        "\n",
        "\n",
        "---"
      ]
    },
    {
      "cell_type": "markdown",
      "metadata": {
        "id": "mYVK7vC3dVXe"
      },
      "source": [
        "### **Conclusions**\n",
        "\n",
        "*    Passengers boarded the ship with their family had survived at a comparatively higher rate. \n",
        "\n",
        "*    Female passengers had been prioritized over men.\n",
        "\n",
        "\n",
        "*    Hierarchy might have played a role in passenger survival rate given that majority of the survivors being from lower passenger classes.\n",
        "\n",
        "*    Passengers who boarded the ship at Cherbourg have had a comparatively higher chance of survival.\n",
        "\n",
        "\n",
        "\n",
        "\n",
        "\n",
        "\n",
        "\n",
        "\n"
      ]
    }
  ]
}